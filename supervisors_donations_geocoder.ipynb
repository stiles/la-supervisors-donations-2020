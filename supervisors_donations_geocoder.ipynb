{
 "cells": [
  {
   "cell_type": "code",
   "execution_count": 54,
   "metadata": {},
   "outputs": [],
   "source": [
    "import requests, time"
   ]
  },
  {
   "cell_type": "code",
   "execution_count": 55,
   "metadata": {},
   "outputs": [],
   "source": [
    "BING_STR = 'http://dev.virtualearth.net/REST/v1/Locations?query={},%20Los%20Angeles,%20CA&output=json&key={}'\n",
    "key = 'ApmsCgK3jSH-D8Ttdbjj4yqUvHAqkNYxBG94Fc0GJis_09Cab9Co5ZyuxoqYgVIa'"
   ]
  },
  {
   "cell_type": "code",
   "execution_count": 56,
   "metadata": {},
   "outputs": [],
   "source": [
    "coords = []"
   ]
  },
  {
   "cell_type": "code",
   "execution_count": 80,
   "metadata": {},
   "outputs": [
    {
     "name": "stdout",
     "output_type": "stream",
     "text": [
      "http://dev.virtualearth.net/REST/v1/Locations/US/CA/Woodland?include=includeValue&maxResults=1&key=ApmsCgK3jSH-D8Ttdbjj4yqUvHAqkNYxBG94Fc0GJis_09Cab9Co5ZyuxoqYgVIa\n",
      "Getting location for Woodland\n"
     ]
    },
    {
     "ename": "HTTPError",
     "evalue": "403 Client Error: Forbidden for url: http://dev.virtualearth.net/REST/v1/Locations/US/CA/Woodland?include=includeValue&maxResults=1&key=ApmsCgK3jSH-D8Ttdbjj4yqUvHAqkNYxBG94Fc0GJis_09Cab9Co5ZyuxoqYgVIa",
     "output_type": "error",
     "traceback": [
      "\u001b[0;31m---------------------------------------------------------------------------\u001b[0m",
      "\u001b[0;31mHTTPError\u001b[0m                                 Traceback (most recent call last)",
      "\u001b[0;32m<ipython-input-80-9721a51d4c96>\u001b[0m in \u001b[0;36m<module>\u001b[0;34m\u001b[0m\n\u001b[1;32m     34\u001b[0m \u001b[0;31m# response_json = response.json()\u001b[0m\u001b[0;34m\u001b[0m\u001b[0;34m\u001b[0m\u001b[0m\n\u001b[1;32m     35\u001b[0m \u001b[0;31m# try:\u001b[0m\u001b[0;34m\u001b[0m\u001b[0;34m\u001b[0m\u001b[0m\n\u001b[0;32m---> 36\u001b[0;31m \u001b[0mresponse\u001b[0m\u001b[0;34m.\u001b[0m\u001b[0mraise_for_status\u001b[0m\u001b[0;34m(\u001b[0m\u001b[0;34m)\u001b[0m\u001b[0;34m\u001b[0m\u001b[0m\n\u001b[0m\u001b[1;32m     37\u001b[0m \u001b[0mresponse_json\u001b[0m \u001b[0;34m=\u001b[0m \u001b[0mresponse\u001b[0m\u001b[0;34m.\u001b[0m\u001b[0mjson\u001b[0m\u001b[0;34m(\u001b[0m\u001b[0;34m)\u001b[0m\u001b[0;34m\u001b[0m\u001b[0m\n\u001b[1;32m     38\u001b[0m \u001b[0;31m# print response_json\u001b[0m\u001b[0;34m\u001b[0m\u001b[0;34m\u001b[0m\u001b[0m\n",
      "\u001b[0;32m~/.virtualenvs/donations/lib/python3.6/site-packages/requests/models.py\u001b[0m in \u001b[0;36mraise_for_status\u001b[0;34m(self)\u001b[0m\n\u001b[1;32m    938\u001b[0m \u001b[0;34m\u001b[0m\u001b[0m\n\u001b[1;32m    939\u001b[0m         \u001b[0;32mif\u001b[0m \u001b[0mhttp_error_msg\u001b[0m\u001b[0;34m:\u001b[0m\u001b[0;34m\u001b[0m\u001b[0m\n\u001b[0;32m--> 940\u001b[0;31m             \u001b[0;32mraise\u001b[0m \u001b[0mHTTPError\u001b[0m\u001b[0;34m(\u001b[0m\u001b[0mhttp_error_msg\u001b[0m\u001b[0;34m,\u001b[0m \u001b[0mresponse\u001b[0m\u001b[0;34m=\u001b[0m\u001b[0mself\u001b[0m\u001b[0;34m)\u001b[0m\u001b[0;34m\u001b[0m\u001b[0m\n\u001b[0m\u001b[1;32m    941\u001b[0m \u001b[0;34m\u001b[0m\u001b[0m\n\u001b[1;32m    942\u001b[0m     \u001b[0;32mdef\u001b[0m \u001b[0mclose\u001b[0m\u001b[0;34m(\u001b[0m\u001b[0mself\u001b[0m\u001b[0;34m)\u001b[0m\u001b[0;34m:\u001b[0m\u001b[0;34m\u001b[0m\u001b[0m\n",
      "\u001b[0;31mHTTPError\u001b[0m: 403 Client Error: Forbidden for url: http://dev.virtualearth.net/REST/v1/Locations/US/CA/Woodland?include=includeValue&maxResults=1&key=ApmsCgK3jSH-D8Ttdbjj4yqUvHAqkNYxBG94Fc0GJis_09Cab9Co5ZyuxoqYgVIa"
     ]
    }
   ],
   "source": [
    "# location file\n",
    "locations = open('/Users/mhustiles/Desktop/github/la-supervisors-donations-2020/data/addresses.csv').read().splitlines()\n",
    "\n",
    "# open geocoded file\n",
    "f = open('geocoded.csv','a')\n",
    "\n",
    "# header row\n",
    "# f.write('address,city,state,lat,lng\\n')\n",
    "\n",
    "for location in locations[150:]:\n",
    "\n",
    "    # print location\n",
    "    items = location.split(',')\n",
    "    address = items[0]\n",
    "    city = items[1]\n",
    "    state = items[2]\n",
    "    BING_STR = 'http://dev.virtualearth.net/REST/v1/Locations/US/'+ state +'/'+ city + '?include=includeValue&maxResults=1&key=' + key\n",
    "    \n",
    "# update without spaces\n",
    "BING_STR = BING_STR.replace(' ','%20')\n",
    "\n",
    "# check for any spaces and update string\n",
    "query_string = BING_STR.format(BING_STR.replace(' ','%20'), key)\n",
    "\n",
    "print(BING_STR.replace(' ','%20'))\n",
    "\n",
    "print('Getting location for ' + city)\n",
    "\n",
    "# print items\n",
    "# try string\n",
    "response = requests.get(query_string)\n",
    "# print response\n",
    "\n",
    "# response_json = response.json()\n",
    "# try:\n",
    "response.raise_for_status()\n",
    "response_json = response.json()\n",
    "# print response_json\n",
    "\n",
    "if len(response_json['resourceSets'][0]['resources']) > 0:\n",
    "    top_hit = response_json['resourceSets'][0]['resources'][0]\n",
    "    bingCoords = top_hit['point']['coordinates']\n",
    "    bingConf = top_hit['confidence']\n",
    "print('Success location for ' + city + '! ' + str(len(locations) - locations.index(location)) + ' left.')\n",
    "f.write(','.join(items)+','+str(bingCoords[0])+','+str(bingCoords[1])+'\\n')\n",
    "\n",
    "coords.append(bingCoords)\n",
    "\n",
    "f.close()"
   ]
  },
  {
   "cell_type": "code",
   "execution_count": null,
   "metadata": {},
   "outputs": [],
   "source": []
  },
  {
   "cell_type": "code",
   "execution_count": null,
   "metadata": {},
   "outputs": [],
   "source": []
  },
  {
   "cell_type": "code",
   "execution_count": null,
   "metadata": {},
   "outputs": [],
   "source": []
  },
  {
   "cell_type": "code",
   "execution_count": null,
   "metadata": {},
   "outputs": [],
   "source": []
  },
  {
   "cell_type": "code",
   "execution_count": null,
   "metadata": {},
   "outputs": [],
   "source": []
  }
 ],
 "metadata": {
  "kernelspec": {
   "display_name": "Python 3",
   "language": "python",
   "name": "python3"
  },
  "language_info": {
   "codemirror_mode": {
    "name": "ipython",
    "version": 3
   },
   "file_extension": ".py",
   "mimetype": "text/x-python",
   "name": "python",
   "nbconvert_exporter": "python",
   "pygments_lexer": "ipython3",
   "version": "3.6.3rc1"
  }
 },
 "nbformat": 4,
 "nbformat_minor": 2
}
