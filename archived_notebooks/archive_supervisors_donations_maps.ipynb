{
 "cells": [
  {
   "cell_type": "markdown",
   "metadata": {},
   "source": [
    "# LA County Board of Supervisors - Campaign Donations Maps"
   ]
  },
  {
   "cell_type": "markdown",
   "metadata": {},
   "source": [
    "These maps visualize campaign donations made in 2018 and 2019 to the candidates running for the Board of Supervisors, including races involving incumbents Kathryn Barger and Janice Hahn and one open seat being vacated by Mark Ridley-Thomas.  "
   ]
  },
  {
   "cell_type": "code",
   "execution_count": 22,
   "metadata": {},
   "outputs": [
    {
     "data": {
      "text/plain": [
       "ThemeRegistry.enable('latimes')"
      ]
     },
     "execution_count": 22,
     "metadata": {},
     "output_type": "execute_result"
    }
   ],
   "source": [
    "import pandas as pd\n",
    "import psycopg2 as pg\n",
    "import matplotlib as mpl\n",
    "from matplotlib import pyplot as plt\n",
    "from matplotlib import rc\n",
    "%matplotlib inline\n",
    "import seaborn as sns\n",
    "import sqlalchemy\n",
    "import pandas.io.sql as psql\n",
    "import numpy as np\n",
    "import geopandas \n",
    "import descartes\n",
    "import geojson\n",
    "import scheme\n",
    "import mapclassify\n",
    "import json\n",
    "import pysal as ps\n",
    "import jenkspy\n",
    "import altair as alt\n",
    "alt.renderers.enable('notebook')\n",
    "alt.themes.enable('opaque')\n",
    "import geopandas as gpd\n",
    "import altair_latimes as lat\n",
    "alt.themes.register('latimes', lat.theme)\n",
    "alt.themes.enable('latimes')\n"
   ]
  },
  {
   "cell_type": "markdown",
   "metadata": {},
   "source": [
    "### Get the data from our larger donations database of committees in all countywide races back to 2007. "
   ]
  },
  {
   "cell_type": "code",
   "execution_count": 23,
   "metadata": {},
   "outputs": [],
   "source": [
    "database_con = pg.connect(\"dbname=campaigns user=postgres\")"
   ]
  },
  {
   "cell_type": "code",
   "execution_count": 24,
   "metadata": {},
   "outputs": [],
   "source": [
    "alldonations =  psql.read_sql(\"SELECT * FROM contributions WHERE 'Contributor Zip Code' != ''\", database_con)"
   ]
  },
  {
   "cell_type": "markdown",
   "metadata": {},
   "source": [
    "### Let's clean up the spaces and capitalization in field names"
   ]
  },
  {
   "cell_type": "code",
   "execution_count": 6,
   "metadata": {},
   "outputs": [],
   "source": [
    "alldonations.columns = alldonations.columns.str.strip().str.lower().str.replace(' ', '_').str.replace('(', '').str.replace(')', '')"
   ]
  },
  {
   "cell_type": "code",
   "execution_count": 7,
   "metadata": {},
   "outputs": [
    {
     "data": {
      "text/html": [
       "<div>\n",
       "<style scoped>\n",
       "    .dataframe tbody tr th:only-of-type {\n",
       "        vertical-align: middle;\n",
       "    }\n",
       "\n",
       "    .dataframe tbody tr th {\n",
       "        vertical-align: top;\n",
       "    }\n",
       "\n",
       "    .dataframe thead th {\n",
       "        text-align: right;\n",
       "    }\n",
       "</style>\n",
       "<table border=\"1\" class=\"dataframe\">\n",
       "  <thead>\n",
       "    <tr style=\"text-align: right;\">\n",
       "      <th></th>\n",
       "      <th>last_name</th>\n",
       "      <th>first_name</th>\n",
       "      <th>committee_id</th>\n",
       "      <th>committee_name</th>\n",
       "      <th>office_type</th>\n",
       "      <th>district_number</th>\n",
       "      <th>schedule</th>\n",
       "      <th>type</th>\n",
       "      <th>date</th>\n",
       "      <th>amount_rcvd</th>\n",
       "      <th>...</th>\n",
       "      <th>employer</th>\n",
       "      <th>int_name</th>\n",
       "      <th>int_city</th>\n",
       "      <th>int_state</th>\n",
       "      <th>int_zip_code</th>\n",
       "      <th>int_occupation</th>\n",
       "      <th>int_employer</th>\n",
       "      <th>doc_id</th>\n",
       "      <th>rec_id</th>\n",
       "      <th>x</th>\n",
       "    </tr>\n",
       "  </thead>\n",
       "  <tbody>\n",
       "    <tr>\n",
       "      <th>0</th>\n",
       "      <td>Barger</td>\n",
       "      <td>Kathryn</td>\n",
       "      <td>1414462</td>\n",
       "      <td>Kathryn Barger for Supervisor 2020</td>\n",
       "      <td>CSU</td>\n",
       "      <td>C05</td>\n",
       "      <td>A</td>\n",
       "      <td>Other</td>\n",
       "      <td>2018-12-31</td>\n",
       "      <td>1500.0</td>\n",
       "      <td>...</td>\n",
       "      <td></td>\n",
       "      <td></td>\n",
       "      <td></td>\n",
       "      <td></td>\n",
       "      <td></td>\n",
       "      <td></td>\n",
       "      <td></td>\n",
       "      <td></td>\n",
       "      <td>2557</td>\n",
       "      <td>164858</td>\n",
       "    </tr>\n",
       "    <tr>\n",
       "      <th>1</th>\n",
       "      <td>Barger</td>\n",
       "      <td>Kathryn</td>\n",
       "      <td>1414462</td>\n",
       "      <td>Kathryn Barger for Supervisor 2020</td>\n",
       "      <td>CSU</td>\n",
       "      <td>C05</td>\n",
       "      <td>A</td>\n",
       "      <td>Other</td>\n",
       "      <td>2018-12-31</td>\n",
       "      <td>1500.0</td>\n",
       "      <td>...</td>\n",
       "      <td></td>\n",
       "      <td></td>\n",
       "      <td></td>\n",
       "      <td></td>\n",
       "      <td></td>\n",
       "      <td></td>\n",
       "      <td></td>\n",
       "      <td></td>\n",
       "      <td>2557</td>\n",
       "      <td>164916</td>\n",
       "    </tr>\n",
       "  </tbody>\n",
       "</table>\n",
       "<p>2 rows × 31 columns</p>\n",
       "</div>"
      ],
      "text/plain": [
       "  last_name first_name committee_id                      committee_name  \\\n",
       "0    Barger    Kathryn      1414462  Kathryn Barger for Supervisor 2020   \n",
       "1    Barger    Kathryn      1414462  Kathryn Barger for Supervisor 2020   \n",
       "\n",
       "  office_type district_number schedule   type        date  amount_rcvd  ...  \\\n",
       "0         CSU             C05        A  Other  2018-12-31       1500.0  ...   \n",
       "1         CSU             C05        A  Other  2018-12-31       1500.0  ...   \n",
       "\n",
       "   employer int_name int_city int_state int_zip_code int_occupation  \\\n",
       "0                                                                     \n",
       "1                                                                     \n",
       "\n",
       "  int_employer doc_id rec_id       x  \n",
       "0                       2557  164858  \n",
       "1                       2557  164916  \n",
       "\n",
       "[2 rows x 31 columns]"
      ]
     },
     "execution_count": 7,
     "metadata": {},
     "output_type": "execute_result"
    }
   ],
   "source": [
    "alldonations.head(2)"
   ]
  },
  {
   "cell_type": "markdown",
   "metadata": {},
   "source": [
    "### Some date parsing"
   ]
  },
  {
   "cell_type": "code",
   "execution_count": 8,
   "metadata": {},
   "outputs": [],
   "source": [
    "alldonations['date'] = pd.to_datetime(alldonations['date'], errors='coerce')"
   ]
  },
  {
   "cell_type": "code",
   "execution_count": 9,
   "metadata": {},
   "outputs": [],
   "source": [
    "alldonations['year'], alldonations['month'] = alldonations['date'].dt.year, alldonations['date'].dt.month\n",
    "alldonations['year'] = alldonations['year'].astype(str)\n",
    "alldonations['month'] = alldonations['month'].astype(str)\n",
    "alldonations['amount_rcvd'] = alldonations['amount_rcvd'].astype(int)\n",
    "alldonations['monthyear'] = pd.to_datetime(alldonations['date']).map(lambda dt: dt.replace(day=1))"
   ]
  },
  {
   "cell_type": "markdown",
   "metadata": {},
   "source": [
    "### Filter out older contributions."
   ]
  },
  {
   "cell_type": "code",
   "execution_count": 10,
   "metadata": {},
   "outputs": [
    {
     "data": {
      "text/html": [
       "<div>\n",
       "<style scoped>\n",
       "    .dataframe tbody tr th:only-of-type {\n",
       "        vertical-align: middle;\n",
       "    }\n",
       "\n",
       "    .dataframe tbody tr th {\n",
       "        vertical-align: top;\n",
       "    }\n",
       "\n",
       "    .dataframe thead th {\n",
       "        text-align: right;\n",
       "    }\n",
       "</style>\n",
       "<table border=\"1\" class=\"dataframe\">\n",
       "  <thead>\n",
       "    <tr style=\"text-align: right;\">\n",
       "      <th></th>\n",
       "      <th>last_name</th>\n",
       "      <th>first_name</th>\n",
       "      <th>committee_id</th>\n",
       "      <th>committee_name</th>\n",
       "      <th>office_type</th>\n",
       "      <th>district_number</th>\n",
       "      <th>schedule</th>\n",
       "      <th>type</th>\n",
       "      <th>date</th>\n",
       "      <th>amount_rcvd</th>\n",
       "      <th>...</th>\n",
       "      <th>int_state</th>\n",
       "      <th>int_zip_code</th>\n",
       "      <th>int_occupation</th>\n",
       "      <th>int_employer</th>\n",
       "      <th>doc_id</th>\n",
       "      <th>rec_id</th>\n",
       "      <th>x</th>\n",
       "      <th>year</th>\n",
       "      <th>month</th>\n",
       "      <th>monthyear</th>\n",
       "    </tr>\n",
       "  </thead>\n",
       "  <tbody>\n",
       "    <tr>\n",
       "      <th>0</th>\n",
       "      <td>Barger</td>\n",
       "      <td>Kathryn</td>\n",
       "      <td>1414462</td>\n",
       "      <td>Kathryn Barger for Supervisor 2020</td>\n",
       "      <td>CSU</td>\n",
       "      <td>C05</td>\n",
       "      <td>A</td>\n",
       "      <td>Other</td>\n",
       "      <td>2018-12-31</td>\n",
       "      <td>1500</td>\n",
       "      <td>...</td>\n",
       "      <td></td>\n",
       "      <td></td>\n",
       "      <td></td>\n",
       "      <td></td>\n",
       "      <td></td>\n",
       "      <td>2557</td>\n",
       "      <td>164858</td>\n",
       "      <td>2018</td>\n",
       "      <td>12</td>\n",
       "      <td>2018-12-01</td>\n",
       "    </tr>\n",
       "    <tr>\n",
       "      <th>1</th>\n",
       "      <td>Barger</td>\n",
       "      <td>Kathryn</td>\n",
       "      <td>1414462</td>\n",
       "      <td>Kathryn Barger for Supervisor 2020</td>\n",
       "      <td>CSU</td>\n",
       "      <td>C05</td>\n",
       "      <td>A</td>\n",
       "      <td>Other</td>\n",
       "      <td>2018-12-31</td>\n",
       "      <td>1500</td>\n",
       "      <td>...</td>\n",
       "      <td></td>\n",
       "      <td></td>\n",
       "      <td></td>\n",
       "      <td></td>\n",
       "      <td></td>\n",
       "      <td>2557</td>\n",
       "      <td>164916</td>\n",
       "      <td>2018</td>\n",
       "      <td>12</td>\n",
       "      <td>2018-12-01</td>\n",
       "    </tr>\n",
       "    <tr>\n",
       "      <th>4</th>\n",
       "      <td>Wesson</td>\n",
       "      <td>Herb</td>\n",
       "      <td>1414475</td>\n",
       "      <td>Wesson for Supervisor 2020</td>\n",
       "      <td>CSU</td>\n",
       "      <td>C02</td>\n",
       "      <td>A</td>\n",
       "      <td>Other</td>\n",
       "      <td>2019-04-29</td>\n",
       "      <td>1500</td>\n",
       "      <td>...</td>\n",
       "      <td></td>\n",
       "      <td></td>\n",
       "      <td></td>\n",
       "      <td></td>\n",
       "      <td></td>\n",
       "      <td>2581</td>\n",
       "      <td>167892</td>\n",
       "      <td>2019</td>\n",
       "      <td>4</td>\n",
       "      <td>2019-04-01</td>\n",
       "    </tr>\n",
       "  </tbody>\n",
       "</table>\n",
       "<p>3 rows × 34 columns</p>\n",
       "</div>"
      ],
      "text/plain": [
       "  last_name first_name committee_id                      committee_name  \\\n",
       "0    Barger    Kathryn      1414462  Kathryn Barger for Supervisor 2020   \n",
       "1    Barger    Kathryn      1414462  Kathryn Barger for Supervisor 2020   \n",
       "4    Wesson       Herb      1414475          Wesson for Supervisor 2020   \n",
       "\n",
       "  office_type district_number schedule   type       date  amount_rcvd  ...  \\\n",
       "0         CSU             C05        A  Other 2018-12-31         1500  ...   \n",
       "1         CSU             C05        A  Other 2018-12-31         1500  ...   \n",
       "4         CSU             C02        A  Other 2019-04-29         1500  ...   \n",
       "\n",
       "   int_state int_zip_code int_occupation int_employer doc_id rec_id       x  \\\n",
       "0                                                              2557  164858   \n",
       "1                                                              2557  164916   \n",
       "4                                                              2581  167892   \n",
       "\n",
       "   year month  monthyear  \n",
       "0  2018    12 2018-12-01  \n",
       "1  2018    12 2018-12-01  \n",
       "4  2019     4 2019-04-01  \n",
       "\n",
       "[3 rows x 34 columns]"
      ]
     },
     "execution_count": 10,
     "metadata": {},
     "output_type": "execute_result"
    }
   ],
   "source": [
    "nudonations = alldonations[alldonations.date > '2018-06-30']\n",
    "nudonations.head(3)"
   ]
  },
  {
   "cell_type": "markdown",
   "metadata": {},
   "source": [
    "### Aggregate by month/year to make sure we filter appropriately. "
   ]
  },
  {
   "cell_type": "code",
   "execution_count": 11,
   "metadata": {},
   "outputs": [
    {
     "data": {
      "text/html": [
       "<div>\n",
       "<style scoped>\n",
       "    .dataframe tbody tr th:only-of-type {\n",
       "        vertical-align: middle;\n",
       "    }\n",
       "\n",
       "    .dataframe tbody tr th {\n",
       "        vertical-align: top;\n",
       "    }\n",
       "\n",
       "    .dataframe thead tr th {\n",
       "        text-align: left;\n",
       "    }\n",
       "\n",
       "    .dataframe thead tr:last-of-type th {\n",
       "        text-align: right;\n",
       "    }\n",
       "</style>\n",
       "<table border=\"1\" class=\"dataframe\">\n",
       "  <thead>\n",
       "    <tr>\n",
       "      <th></th>\n",
       "      <th colspan=\"3\" halign=\"left\">amount_rcvd</th>\n",
       "    </tr>\n",
       "    <tr>\n",
       "      <th></th>\n",
       "      <th>sum</th>\n",
       "      <th>size</th>\n",
       "      <th>mean</th>\n",
       "    </tr>\n",
       "    <tr>\n",
       "      <th>date</th>\n",
       "      <th></th>\n",
       "      <th></th>\n",
       "      <th></th>\n",
       "    </tr>\n",
       "  </thead>\n",
       "  <tbody>\n",
       "    <tr>\n",
       "      <th>2018-07</th>\n",
       "      <td>87659</td>\n",
       "      <td>150</td>\n",
       "      <td>584.393333</td>\n",
       "    </tr>\n",
       "    <tr>\n",
       "      <th>2018-08</th>\n",
       "      <td>232188</td>\n",
       "      <td>323</td>\n",
       "      <td>718.848297</td>\n",
       "    </tr>\n",
       "    <tr>\n",
       "      <th>2018-09</th>\n",
       "      <td>304368</td>\n",
       "      <td>473</td>\n",
       "      <td>643.484144</td>\n",
       "    </tr>\n",
       "    <tr>\n",
       "      <th>2018-10</th>\n",
       "      <td>609077</td>\n",
       "      <td>803</td>\n",
       "      <td>758.501868</td>\n",
       "    </tr>\n",
       "    <tr>\n",
       "      <th>2018-11</th>\n",
       "      <td>176696</td>\n",
       "      <td>207</td>\n",
       "      <td>853.603865</td>\n",
       "    </tr>\n",
       "    <tr>\n",
       "      <th>2018-12</th>\n",
       "      <td>859396</td>\n",
       "      <td>700</td>\n",
       "      <td>1227.708571</td>\n",
       "    </tr>\n",
       "    <tr>\n",
       "      <th>2019-01</th>\n",
       "      <td>179180</td>\n",
       "      <td>187</td>\n",
       "      <td>958.181818</td>\n",
       "    </tr>\n",
       "    <tr>\n",
       "      <th>2019-02</th>\n",
       "      <td>607890</td>\n",
       "      <td>697</td>\n",
       "      <td>872.152080</td>\n",
       "    </tr>\n",
       "    <tr>\n",
       "      <th>2019-03</th>\n",
       "      <td>479805</td>\n",
       "      <td>509</td>\n",
       "      <td>942.642436</td>\n",
       "    </tr>\n",
       "    <tr>\n",
       "      <th>2019-04</th>\n",
       "      <td>419783</td>\n",
       "      <td>563</td>\n",
       "      <td>745.618117</td>\n",
       "    </tr>\n",
       "    <tr>\n",
       "      <th>2019-05</th>\n",
       "      <td>545495</td>\n",
       "      <td>706</td>\n",
       "      <td>772.655807</td>\n",
       "    </tr>\n",
       "    <tr>\n",
       "      <th>2019-06</th>\n",
       "      <td>1003559</td>\n",
       "      <td>1398</td>\n",
       "      <td>717.853362</td>\n",
       "    </tr>\n",
       "  </tbody>\n",
       "</table>\n",
       "</div>"
      ],
      "text/plain": [
       "        amount_rcvd                   \n",
       "                sum  size         mean\n",
       "date                                  \n",
       "2018-07       87659   150   584.393333\n",
       "2018-08      232188   323   718.848297\n",
       "2018-09      304368   473   643.484144\n",
       "2018-10      609077   803   758.501868\n",
       "2018-11      176696   207   853.603865\n",
       "2018-12      859396   700  1227.708571\n",
       "2019-01      179180   187   958.181818\n",
       "2019-02      607890   697   872.152080\n",
       "2019-03      479805   509   942.642436\n",
       "2019-04      419783   563   745.618117\n",
       "2019-05      545495   706   772.655807\n",
       "2019-06     1003559  1398   717.853362"
      ]
     },
     "execution_count": 11,
     "metadata": {},
     "output_type": "execute_result"
    }
   ],
   "source": [
    "nudonations[['date', 'amount_rcvd']].groupby(nudonations.date.dt.to_period(\"M\")).agg(['sum', 'size', 'mean'])"
   ]
  },
  {
   "cell_type": "markdown",
   "metadata": {},
   "source": [
    "## Three stories: Group 2020 contributions data by 1) race, 2) time, 3) zip code."
   ]
  },
  {
   "cell_type": "markdown",
   "metadata": {},
   "source": [
    "### Select only donations to candidates running in 2020"
   ]
  },
  {
   "cell_type": "code",
   "execution_count": 12,
   "metadata": {},
   "outputs": [],
   "source": [
    "thiscycle = nudonations[(nudonations['date'] > '2018-06-30') & (nudonations['committee_name'].str.contains('2020', case = False)\n",
    ")] "
   ]
  },
  {
   "cell_type": "code",
   "execution_count": 13,
   "metadata": {},
   "outputs": [
    {
     "data": {
      "text/html": [
       "<div>\n",
       "<style scoped>\n",
       "    .dataframe tbody tr th:only-of-type {\n",
       "        vertical-align: middle;\n",
       "    }\n",
       "\n",
       "    .dataframe tbody tr th {\n",
       "        vertical-align: top;\n",
       "    }\n",
       "\n",
       "    .dataframe thead tr th {\n",
       "        text-align: left;\n",
       "    }\n",
       "\n",
       "    .dataframe thead tr:last-of-type th {\n",
       "        text-align: right;\n",
       "    }\n",
       "</style>\n",
       "<table border=\"1\" class=\"dataframe\">\n",
       "  <thead>\n",
       "    <tr>\n",
       "      <th></th>\n",
       "      <th colspan=\"3\" halign=\"left\">amount_rcvd</th>\n",
       "      <th colspan=\"3\" halign=\"left\">amount_pd</th>\n",
       "    </tr>\n",
       "    <tr>\n",
       "      <th></th>\n",
       "      <th>sum</th>\n",
       "      <th>size</th>\n",
       "      <th>mean</th>\n",
       "      <th>sum</th>\n",
       "      <th>size</th>\n",
       "      <th>mean</th>\n",
       "    </tr>\n",
       "    <tr>\n",
       "      <th>committee_name</th>\n",
       "      <th></th>\n",
       "      <th></th>\n",
       "      <th></th>\n",
       "      <th></th>\n",
       "      <th></th>\n",
       "      <th></th>\n",
       "    </tr>\n",
       "  </thead>\n",
       "  <tbody>\n",
       "    <tr>\n",
       "      <th>Committee to Re-Elect Jackie Lacey for District Attorney 2020</th>\n",
       "      <td>433480</td>\n",
       "      <td>444</td>\n",
       "      <td>976.306306</td>\n",
       "      <td>0.0</td>\n",
       "      <td>444</td>\n",
       "      <td>0.0</td>\n",
       "    </tr>\n",
       "    <tr>\n",
       "      <th>Holly J. Mitchell for County Supervisor 2020</th>\n",
       "      <td>564594</td>\n",
       "      <td>767</td>\n",
       "      <td>736.106910</td>\n",
       "      <td>0.0</td>\n",
       "      <td>767</td>\n",
       "      <td>0.0</td>\n",
       "    </tr>\n",
       "    <tr>\n",
       "      <th>JAN PERRY FOR SUPERVISOR 2020 DISTRICT 2</th>\n",
       "      <td>509760</td>\n",
       "      <td>893</td>\n",
       "      <td>570.839866</td>\n",
       "      <td>0.0</td>\n",
       "      <td>893</td>\n",
       "      <td>0.0</td>\n",
       "    </tr>\n",
       "    <tr>\n",
       "      <th>Janice Hahn for Supervisor 2020</th>\n",
       "      <td>322850</td>\n",
       "      <td>275</td>\n",
       "      <td>1174.000000</td>\n",
       "      <td>0.0</td>\n",
       "      <td>275</td>\n",
       "      <td>0.0</td>\n",
       "    </tr>\n",
       "    <tr>\n",
       "      <th>Jeong for County Supervisor 2020</th>\n",
       "      <td>46100</td>\n",
       "      <td>82</td>\n",
       "      <td>562.195122</td>\n",
       "      <td>0.0</td>\n",
       "      <td>82</td>\n",
       "      <td>0.0</td>\n",
       "    </tr>\n",
       "    <tr>\n",
       "      <th>Joseph F. Iniguez for District Attorney 2020</th>\n",
       "      <td>48195</td>\n",
       "      <td>181</td>\n",
       "      <td>266.270718</td>\n",
       "      <td>0.0</td>\n",
       "      <td>181</td>\n",
       "      <td>0.0</td>\n",
       "    </tr>\n",
       "    <tr>\n",
       "      <th>Kathryn Barger for Supervisor 2020</th>\n",
       "      <td>815095</td>\n",
       "      <td>935</td>\n",
       "      <td>871.759358</td>\n",
       "      <td>0.0</td>\n",
       "      <td>935</td>\n",
       "      <td>0.0</td>\n",
       "    </tr>\n",
       "    <tr>\n",
       "      <th>Wesson for Supervisor 2020</th>\n",
       "      <td>1119445</td>\n",
       "      <td>960</td>\n",
       "      <td>1166.088542</td>\n",
       "      <td>0.0</td>\n",
       "      <td>960</td>\n",
       "      <td>0.0</td>\n",
       "    </tr>\n",
       "  </tbody>\n",
       "</table>\n",
       "</div>"
      ],
      "text/plain": [
       "                                                   amount_rcvd       \\\n",
       "                                                           sum size   \n",
       "committee_name                                                        \n",
       "Committee to Re-Elect Jackie Lacey for District...      433480  444   \n",
       "Holly J. Mitchell for County Supervisor 2020            564594  767   \n",
       "JAN PERRY FOR SUPERVISOR 2020 DISTRICT 2                509760  893   \n",
       "Janice Hahn for Supervisor 2020                         322850  275   \n",
       "Jeong for County Supervisor 2020                         46100   82   \n",
       "Joseph F. Iniguez for District Attorney 2020             48195  181   \n",
       "Kathryn Barger for Supervisor 2020                      815095  935   \n",
       "Wesson for Supervisor 2020                             1119445  960   \n",
       "\n",
       "                                                                amount_pd  \\\n",
       "                                                           mean       sum   \n",
       "committee_name                                                              \n",
       "Committee to Re-Elect Jackie Lacey for District...   976.306306       0.0   \n",
       "Holly J. Mitchell for County Supervisor 2020         736.106910       0.0   \n",
       "JAN PERRY FOR SUPERVISOR 2020 DISTRICT 2             570.839866       0.0   \n",
       "Janice Hahn for Supervisor 2020                     1174.000000       0.0   \n",
       "Jeong for County Supervisor 2020                     562.195122       0.0   \n",
       "Joseph F. Iniguez for District Attorney 2020         266.270718       0.0   \n",
       "Kathryn Barger for Supervisor 2020                   871.759358       0.0   \n",
       "Wesson for Supervisor 2020                          1166.088542       0.0   \n",
       "\n",
       "                                                              \n",
       "                                                   size mean  \n",
       "committee_name                                                \n",
       "Committee to Re-Elect Jackie Lacey for District...  444  0.0  \n",
       "Holly J. Mitchell for County Supervisor 2020        767  0.0  \n",
       "JAN PERRY FOR SUPERVISOR 2020 DISTRICT 2            893  0.0  \n",
       "Janice Hahn for Supervisor 2020                     275  0.0  \n",
       "Jeong for County Supervisor 2020                     82  0.0  \n",
       "Joseph F. Iniguez for District Attorney 2020        181  0.0  \n",
       "Kathryn Barger for Supervisor 2020                  935  0.0  \n",
       "Wesson for Supervisor 2020                          960  0.0  "
      ]
     },
     "execution_count": 13,
     "metadata": {},
     "output_type": "execute_result"
    }
   ],
   "source": [
    "thiscycle.groupby('committee_name').agg(['sum', 'size', 'mean'])"
   ]
  },
  {
   "cell_type": "code",
   "execution_count": 14,
   "metadata": {},
   "outputs": [
    {
     "data": {
      "text/html": [
       "<div>\n",
       "<style scoped>\n",
       "    .dataframe tbody tr th:only-of-type {\n",
       "        vertical-align: middle;\n",
       "    }\n",
       "\n",
       "    .dataframe tbody tr th {\n",
       "        vertical-align: top;\n",
       "    }\n",
       "\n",
       "    .dataframe thead th {\n",
       "        text-align: right;\n",
       "    }\n",
       "</style>\n",
       "<table border=\"1\" class=\"dataframe\">\n",
       "  <thead>\n",
       "    <tr style=\"text-align: right;\">\n",
       "      <th></th>\n",
       "      <th>last_name</th>\n",
       "      <th>first_name</th>\n",
       "      <th>committee_id</th>\n",
       "      <th>committee_name</th>\n",
       "      <th>office_type</th>\n",
       "      <th>district_number</th>\n",
       "      <th>schedule</th>\n",
       "      <th>type</th>\n",
       "      <th>date</th>\n",
       "      <th>amount_rcvd</th>\n",
       "      <th>...</th>\n",
       "      <th>int_state</th>\n",
       "      <th>int_zip_code</th>\n",
       "      <th>int_occupation</th>\n",
       "      <th>int_employer</th>\n",
       "      <th>doc_id</th>\n",
       "      <th>rec_id</th>\n",
       "      <th>x</th>\n",
       "      <th>year</th>\n",
       "      <th>month</th>\n",
       "      <th>monthyear</th>\n",
       "    </tr>\n",
       "  </thead>\n",
       "  <tbody>\n",
       "    <tr>\n",
       "      <th>0</th>\n",
       "      <td>Barger</td>\n",
       "      <td>Kathryn</td>\n",
       "      <td>1414462</td>\n",
       "      <td>Kathryn Barger for Supervisor 2020</td>\n",
       "      <td>CSU</td>\n",
       "      <td>C05</td>\n",
       "      <td>A</td>\n",
       "      <td>Other</td>\n",
       "      <td>2018-12-31</td>\n",
       "      <td>1500</td>\n",
       "      <td>...</td>\n",
       "      <td></td>\n",
       "      <td></td>\n",
       "      <td></td>\n",
       "      <td></td>\n",
       "      <td></td>\n",
       "      <td>2557</td>\n",
       "      <td>164858</td>\n",
       "      <td>2018</td>\n",
       "      <td>12</td>\n",
       "      <td>2018-12-01</td>\n",
       "    </tr>\n",
       "    <tr>\n",
       "      <th>1</th>\n",
       "      <td>Barger</td>\n",
       "      <td>Kathryn</td>\n",
       "      <td>1414462</td>\n",
       "      <td>Kathryn Barger for Supervisor 2020</td>\n",
       "      <td>CSU</td>\n",
       "      <td>C05</td>\n",
       "      <td>A</td>\n",
       "      <td>Other</td>\n",
       "      <td>2018-12-31</td>\n",
       "      <td>1500</td>\n",
       "      <td>...</td>\n",
       "      <td></td>\n",
       "      <td></td>\n",
       "      <td></td>\n",
       "      <td></td>\n",
       "      <td></td>\n",
       "      <td>2557</td>\n",
       "      <td>164916</td>\n",
       "      <td>2018</td>\n",
       "      <td>12</td>\n",
       "      <td>2018-12-01</td>\n",
       "    </tr>\n",
       "    <tr>\n",
       "      <th>4</th>\n",
       "      <td>Wesson</td>\n",
       "      <td>Herb</td>\n",
       "      <td>1414475</td>\n",
       "      <td>Wesson for Supervisor 2020</td>\n",
       "      <td>CSU</td>\n",
       "      <td>C02</td>\n",
       "      <td>A</td>\n",
       "      <td>Other</td>\n",
       "      <td>2019-04-29</td>\n",
       "      <td>1500</td>\n",
       "      <td>...</td>\n",
       "      <td></td>\n",
       "      <td></td>\n",
       "      <td></td>\n",
       "      <td></td>\n",
       "      <td></td>\n",
       "      <td>2581</td>\n",
       "      <td>167892</td>\n",
       "      <td>2019</td>\n",
       "      <td>4</td>\n",
       "      <td>2019-04-01</td>\n",
       "    </tr>\n",
       "  </tbody>\n",
       "</table>\n",
       "<p>3 rows × 34 columns</p>\n",
       "</div>"
      ],
      "text/plain": [
       "  last_name first_name committee_id                      committee_name  \\\n",
       "0    Barger    Kathryn      1414462  Kathryn Barger for Supervisor 2020   \n",
       "1    Barger    Kathryn      1414462  Kathryn Barger for Supervisor 2020   \n",
       "4    Wesson       Herb      1414475          Wesson for Supervisor 2020   \n",
       "\n",
       "  office_type district_number schedule   type       date  amount_rcvd  ...  \\\n",
       "0         CSU             C05        A  Other 2018-12-31         1500  ...   \n",
       "1         CSU             C05        A  Other 2018-12-31         1500  ...   \n",
       "4         CSU             C02        A  Other 2019-04-29         1500  ...   \n",
       "\n",
       "   int_state int_zip_code int_occupation int_employer doc_id rec_id       x  \\\n",
       "0                                                              2557  164858   \n",
       "1                                                              2557  164916   \n",
       "4                                                              2581  167892   \n",
       "\n",
       "   year month  monthyear  \n",
       "0  2018    12 2018-12-01  \n",
       "1  2018    12 2018-12-01  \n",
       "4  2019     4 2019-04-01  \n",
       "\n",
       "[3 rows x 34 columns]"
      ]
     },
     "execution_count": 14,
     "metadata": {},
     "output_type": "execute_result"
    }
   ],
   "source": [
    "thiscycle.head(3)"
   ]
  },
  {
   "cell_type": "markdown",
   "metadata": {},
   "source": [
    "### 1) Create a dataframe with summary stats for each campaign this cycle"
   ]
  },
  {
   "cell_type": "code",
   "execution_count": 15,
   "metadata": {},
   "outputs": [],
   "source": [
    "thiscycletotals = thiscycle.groupby(['first_name','last_name', 'committee_name'], as_index=False).agg({'amount_rcvd': ['size', 'mean', 'sum']}, as_index=False)"
   ]
  },
  {
   "cell_type": "markdown",
   "metadata": {},
   "source": [
    "### 1) Clean up the hierarchical column structure. Standardize names in all caps."
   ]
  },
  {
   "cell_type": "code",
   "execution_count": 16,
   "metadata": {},
   "outputs": [
    {
     "data": {
      "text/html": [
       "<div>\n",
       "<style scoped>\n",
       "    .dataframe tbody tr th:only-of-type {\n",
       "        vertical-align: middle;\n",
       "    }\n",
       "\n",
       "    .dataframe tbody tr th {\n",
       "        vertical-align: top;\n",
       "    }\n",
       "\n",
       "    .dataframe thead th {\n",
       "        text-align: right;\n",
       "    }\n",
       "</style>\n",
       "<table border=\"1\" class=\"dataframe\">\n",
       "  <thead>\n",
       "    <tr style=\"text-align: right;\">\n",
       "      <th></th>\n",
       "      <th>first_name</th>\n",
       "      <th>last_name</th>\n",
       "      <th>committee_name</th>\n",
       "      <th>amount_rcvdsize</th>\n",
       "      <th>amount_rcvdmean</th>\n",
       "      <th>amount_rcvdsum</th>\n",
       "    </tr>\n",
       "  </thead>\n",
       "  <tbody>\n",
       "    <tr>\n",
       "      <th>0</th>\n",
       "      <td>CHAN</td>\n",
       "      <td>JEONG</td>\n",
       "      <td>JEONG FOR COUNTY SUPERVISOR 2020</td>\n",
       "      <td>82</td>\n",
       "      <td>562</td>\n",
       "      <td>46100</td>\n",
       "    </tr>\n",
       "    <tr>\n",
       "      <th>1</th>\n",
       "      <td>HERB</td>\n",
       "      <td>WESSON</td>\n",
       "      <td>WESSON FOR SUPERVISOR 2020</td>\n",
       "      <td>960</td>\n",
       "      <td>1166</td>\n",
       "      <td>1119445</td>\n",
       "    </tr>\n",
       "    <tr>\n",
       "      <th>2</th>\n",
       "      <td>HOLLY J.</td>\n",
       "      <td>MITCHELL</td>\n",
       "      <td>HOLLY J. MITCHELL FOR COUNTY SUPERVISOR 2020</td>\n",
       "      <td>767</td>\n",
       "      <td>736</td>\n",
       "      <td>564594</td>\n",
       "    </tr>\n",
       "    <tr>\n",
       "      <th>3</th>\n",
       "      <td>JAN</td>\n",
       "      <td>PERRY</td>\n",
       "      <td>JAN PERRY FOR SUPERVISOR 2020 DISTRICT 2</td>\n",
       "      <td>893</td>\n",
       "      <td>570</td>\n",
       "      <td>509760</td>\n",
       "    </tr>\n",
       "    <tr>\n",
       "      <th>4</th>\n",
       "      <td>JACQUELYN</td>\n",
       "      <td>LACEY</td>\n",
       "      <td>COMMITTEE TO RE-ELECT JACKIE LACEY FOR DISTRIC...</td>\n",
       "      <td>444</td>\n",
       "      <td>976</td>\n",
       "      <td>433480</td>\n",
       "    </tr>\n",
       "    <tr>\n",
       "      <th>5</th>\n",
       "      <td>JANICE</td>\n",
       "      <td>HAHN</td>\n",
       "      <td>JANICE HAHN FOR SUPERVISOR 2020</td>\n",
       "      <td>275</td>\n",
       "      <td>1174</td>\n",
       "      <td>322850</td>\n",
       "    </tr>\n",
       "    <tr>\n",
       "      <th>6</th>\n",
       "      <td>JOSEPH F.</td>\n",
       "      <td>INIGUEZ</td>\n",
       "      <td>JOSEPH F. INIGUEZ FOR DISTRICT ATTORNEY 2020</td>\n",
       "      <td>181</td>\n",
       "      <td>266</td>\n",
       "      <td>48195</td>\n",
       "    </tr>\n",
       "    <tr>\n",
       "      <th>7</th>\n",
       "      <td>KATHRYN</td>\n",
       "      <td>BARGER</td>\n",
       "      <td>KATHRYN BARGER FOR SUPERVISOR 2020</td>\n",
       "      <td>935</td>\n",
       "      <td>871</td>\n",
       "      <td>815095</td>\n",
       "    </tr>\n",
       "  </tbody>\n",
       "</table>\n",
       "</div>"
      ],
      "text/plain": [
       "  first_name last_name                                     committee_name  \\\n",
       "0       CHAN     JEONG                   JEONG FOR COUNTY SUPERVISOR 2020   \n",
       "1       HERB    WESSON                         WESSON FOR SUPERVISOR 2020   \n",
       "2   HOLLY J.  MITCHELL       HOLLY J. MITCHELL FOR COUNTY SUPERVISOR 2020   \n",
       "3        JAN     PERRY           JAN PERRY FOR SUPERVISOR 2020 DISTRICT 2   \n",
       "4  JACQUELYN     LACEY  COMMITTEE TO RE-ELECT JACKIE LACEY FOR DISTRIC...   \n",
       "5     JANICE      HAHN                    JANICE HAHN FOR SUPERVISOR 2020   \n",
       "6  JOSEPH F.   INIGUEZ       JOSEPH F. INIGUEZ FOR DISTRICT ATTORNEY 2020   \n",
       "7    KATHRYN    BARGER                 KATHRYN BARGER FOR SUPERVISOR 2020   \n",
       "\n",
       "   amount_rcvdsize  amount_rcvdmean  amount_rcvdsum  \n",
       "0               82              562           46100  \n",
       "1              960             1166         1119445  \n",
       "2              767              736          564594  \n",
       "3              893              570          509760  \n",
       "4              444              976          433480  \n",
       "5              275             1174          322850  \n",
       "6              181              266           48195  \n",
       "7              935              871          815095  "
      ]
     },
     "execution_count": 16,
     "metadata": {},
     "output_type": "execute_result"
    }
   ],
   "source": [
    "flat_columns = [''.join(t) for t in thiscycletotals.columns]\n",
    "thiscycletotals.columns = flat_columns\n",
    "thiscycletotals['amount_rcvdmean'] = thiscycletotals['amount_rcvdmean'].astype(int)\n",
    "thiscycletotals['amount_rcvdmean'] = thiscycletotals['amount_rcvdmean'].round(0)\n",
    "thiscycletotals['last_name'] = thiscycletotals['last_name'].str.upper()\n",
    "thiscycletotals['committee_name'] = thiscycletotals['committee_name'].str.upper()\n",
    "thiscycletotals['first_name'] = thiscycletotals['first_name'].str.upper()\n",
    "\n",
    "thiscycletotals"
   ]
  },
  {
   "cell_type": "markdown",
   "metadata": {},
   "source": [
    "***"
   ]
  },
  {
   "cell_type": "markdown",
   "metadata": {},
   "source": [
    "## Where did the donations come from? "
   ]
  },
  {
   "cell_type": "markdown",
   "metadata": {},
   "source": [
    "### Data frames for each candidate in the supervisors races"
   ]
  },
  {
   "cell_type": "code",
   "execution_count": 17,
   "metadata": {},
   "outputs": [],
   "source": [
    "bargerall = thiscycle[(thiscycle.last_name == 'Barger')]\n",
    "hahnall = thiscycle[(thiscycle.last_name == 'Hahn')]\n",
    "perryall = thiscycle[(thiscycle.last_name == 'PERRY')]\n",
    "wessonall = thiscycle[(thiscycle.last_name == 'Wesson')]\n",
    "iniguezall = thiscycle[(thiscycle.last_name == 'Iniguez')]\n",
    "jeongall = thiscycle[(thiscycle.last_name == 'Jeong')]\n",
    "mitchellall = thiscycle[(thiscycle.last_name == 'Mitchell')]"
   ]
  },
  {
   "cell_type": "markdown",
   "metadata": {},
   "source": [
    "### Load our spatial data"
   ]
  },
  {
   "cell_type": "code",
   "execution_count": 18,
   "metadata": {},
   "outputs": [],
   "source": [
    "#CA zip codes\n",
    "calizipsmap = gpd.read_file(\"/Users/mhustiles/Desktop/data/GIS/californiazips_simple.json\")\n",
    "\n",
    "#CA state boundary\n",
    "calimap = gpd.read_file(\"/Users/mhustiles/Desktop/data/GIS/california.shp\")\n",
    "\n",
    "#LA County zip codes\n",
    "# lazipsmap = gpd.read_file(\"/Users/mhustiles/Desktop/data/GIS/LA/la_county_gis_zipcodes/la_county_zipcodes.geojson\")\n",
    "\n",
    "#LA County zip codes\n",
    "lazipsmap = gpd.read_file(\"/Users/mhustiles/Desktop/data/GIS/LA/la_county_gis_zipcodes/la_county_zipcodes_simple.json\")"
   ]
  },
  {
   "cell_type": "code",
   "execution_count": 19,
   "metadata": {},
   "outputs": [],
   "source": [
    "lazipsmap.crs\n",
    "lazipsmapproj = lazipsmap.to_crs(epsg=4326)"
   ]
  },
  {
   "cell_type": "code",
   "execution_count": 20,
   "metadata": {},
   "outputs": [
    {
     "data": {
      "text/plain": [
       "<matplotlib.axes._subplots.AxesSubplot at 0x13a332a58>"
      ]
     },
     "execution_count": 20,
     "metadata": {},
     "output_type": "execute_result"
    },
    {
     "data": {
      "image/png": "[encoded data removed]",
      "text/plain": [
       "<Figure size 432x288 with 1 Axes>"
      ]
     },
     "metadata": {
      "needs_background": "light"
     },
     "output_type": "display_data"
    },
    {
     "data": {
      "image/png": "[encoded data removed]",
      "text/plain": [
       "<Figure size 432x288 with 1 Axes>"
      ]
     },
     "metadata": {
      "needs_background": "light"
     },
     "output_type": "display_data"
    }
   ],
   "source": [
    "calizipsmap.plot()\n",
    "lazipsmapproj.plot()"
   ]
  },
  {
   "cell_type": "markdown",
   "metadata": {},
   "source": [
    "### Clean up field names"
   ]
  },
  {
   "cell_type": "code",
   "execution_count": 26,
   "metadata": {},
   "outputs": [],
   "source": [
    "calizipsmaptrim = calizipsmap[[\n",
    "    'ZCTA5CE10',\n",
    "    'INTPTLAT10',\n",
    "    'INTPTLON10',\n",
    "    'geometry',\n",
    "]].rename(columns={\n",
    "    'ZCTA5CE10': \"zip_code\",\n",
    "    'INTPTLAT10': \"lat\",\n",
    "    'INTPTLON10': \"lon\",\n",
    "    'geometry': \"geometry\",\n",
    "})\n",
    "\n",
    "lazipsmaptrim = lazipsmapproj[[\n",
    "    'Shape.area',\n",
    "    'Shape.len',\n",
    "    'OBJECTID',\n",
    "    'ZIPCODE',\n",
    "    'geometry'\n",
    "]].rename(columns={\n",
    "    'Shape.area': \"area\",\n",
    "    'Shape.len': \"len\",\n",
    "    'OBJECTID': \"ID\",\n",
    "    'ZIPCODE': \"zip_code\",\n",
    "    'geometry': \"geometry\",\n",
    "})"
   ]
  },
  {
   "cell_type": "markdown",
   "metadata": {},
   "source": [
    "## Get rid of that silly island"
   ]
  },
  {
   "cell_type": "code",
   "execution_count": 27,
   "metadata": {
    "scrolled": true
   },
   "outputs": [
    {
     "data": {
      "text/html": [
       "<div>\n",
       "<style scoped>\n",
       "    .dataframe tbody tr th:only-of-type {\n",
       "        vertical-align: middle;\n",
       "    }\n",
       "\n",
       "    .dataframe tbody tr th {\n",
       "        vertical-align: top;\n",
       "    }\n",
       "\n",
       "    .dataframe thead th {\n",
       "        text-align: right;\n",
       "    }\n",
       "</style>\n",
       "<table border=\"1\" class=\"dataframe\">\n",
       "  <thead>\n",
       "    <tr style=\"text-align: right;\">\n",
       "      <th></th>\n",
       "      <th>area</th>\n",
       "      <th>len</th>\n",
       "      <th>ID</th>\n",
       "      <th>zip_code</th>\n",
       "      <th>geometry</th>\n",
       "    </tr>\n",
       "  </thead>\n",
       "  <tbody>\n",
       "    <tr>\n",
       "      <th>0</th>\n",
       "      <td>191184.208318</td>\n",
       "      <td>1801.702222</td>\n",
       "      <td>180</td>\n",
       "      <td>91046</td>\n",
       "      <td>POLYGON ((-118.2401427496653 34.21173137965621...</td>\n",
       "    </tr>\n",
       "    <tr>\n",
       "      <th>1</th>\n",
       "      <td>485596.910406</td>\n",
       "      <td>3122.780185</td>\n",
       "      <td>1547</td>\n",
       "      <td>90802</td>\n",
       "      <td>POLYGON ((-118.1794699104521 33.75926636656992...</td>\n",
       "    </tr>\n",
       "  </tbody>\n",
       "</table>\n",
       "</div>"
      ],
      "text/plain": [
       "            area          len    ID zip_code  \\\n",
       "0  191184.208318  1801.702222   180    91046   \n",
       "1  485596.910406  3122.780185  1547    90802   \n",
       "\n",
       "                                            geometry  \n",
       "0  POLYGON ((-118.2401427496653 34.21173137965621...  \n",
       "1  POLYGON ((-118.1794699104521 33.75926636656992...  "
      ]
     },
     "execution_count": 27,
     "metadata": {},
     "output_type": "execute_result"
    },
    {
     "data": {
      "image/png": "[encoded data removed]",
      "text/plain": [
       "<Figure size 432x288 with 1 Axes>"
      ]
     },
     "metadata": {
      "needs_background": "light"
     },
     "output_type": "display_data"
    }
   ],
   "source": [
    "nulazipsmap = lazipsmaptrim[lazipsmaptrim.zip_code != '90704']\n",
    "nulazipsmap.plot()\n",
    "nulazipsmap.head(2)"
   ]
  },
  {
   "cell_type": "code",
   "execution_count": 56,
   "metadata": {},
   "outputs": [],
   "source": [
    "lazips_grouped = nulazipsmap.groupby(['zip_code', 'ID'])\n",
    "\n",
    "lazips_grouped.sum().reset_index().to_csv('/Users/mhustiles/Desktop/github/la-supervisors-donations-2020/data/lazips_grouped.csv')"
   ]
  },
  {
   "cell_type": "markdown",
   "metadata": {},
   "source": [
    "***"
   ]
  },
  {
   "cell_type": "markdown",
   "metadata": {},
   "source": [
    "### Aggregates for zip codes (removing null zips, cleaning up index headers, mean formatting, etc.)"
   ]
  },
  {
   "cell_type": "code",
   "execution_count": null,
   "metadata": {},
   "outputs": [],
   "source": [
    "thiscyclezips = thiscyclezips[thiscyclezips.contributor_zip_code != \"\"]\n",
    "\n",
    "thiscyclezips = thiscycle.groupby(['contributor_zip_code','last_name', 'committee_name'], as_index=False).agg({'amount_rcvd': ['size', 'mean', 'sum']}, as_index=False)\n",
    "\n",
    "flat_columns = [''.join(t) for t in thiscyclezips.columns]\n",
    "thiscyclezips.columns = flat_columns\n",
    "thiscyclezips['amount_rcvdmean'] = thiscyclezips['amount_rcvdmean'].astype(int)\n",
    "thiscyclezips['amount_rcvdmean'] = thiscyclezips['amount_rcvdmean'].round(2)\n",
    "thiscyclezips['last_name'] = thiscyclezips['last_name'].str.upper()\n",
    "thiscyclezips['committee_name'] = thiscyclezips['committee_name'].str.upper()\n",
    "\n",
    "thiscyclezips"
   ]
  },
  {
   "cell_type": "markdown",
   "metadata": {},
   "source": [
    "### Merge campaign data with zip code maps"
   ]
  },
  {
   "cell_type": "code",
   "execution_count": null,
   "metadata": {},
   "outputs": [],
   "source": [
    "merged = nulazipsmap.merge(\n",
    "    thiscyclezips[['contributor_zip_code', \"amount_rcvdsum\", \"amount_rcvdsize\", \"amount_rcvdmean\", \"last_name\"]],\n",
    "    left_on=\"zip_code\",\n",
    "    right_on=\"contributor_zip_code\"\n",
    ")"
   ]
  },
  {
   "cell_type": "code",
   "execution_count": null,
   "metadata": {},
   "outputs": [],
   "source": [
    "merged"
   ]
  },
  {
   "cell_type": "code",
   "execution_count": null,
   "metadata": {},
   "outputs": [],
   "source": []
  },
  {
   "cell_type": "code",
   "execution_count": null,
   "metadata": {},
   "outputs": [],
   "source": []
  },
  {
   "cell_type": "code",
   "execution_count": null,
   "metadata": {},
   "outputs": [],
   "source": []
  },
  {
   "cell_type": "code",
   "execution_count": null,
   "metadata": {},
   "outputs": [],
   "source": [
    "alt.themes.register('latimes', lat.theme)\n",
    "alt.themes.enable('latimes')"
   ]
  },
  {
   "cell_type": "code",
   "execution_count": null,
   "metadata": {},
   "outputs": [],
   "source": [
    "alt.data_transformers.enable('json')"
   ]
  },
  {
   "cell_type": "code",
   "execution_count": null,
   "metadata": {},
   "outputs": [],
   "source": [
    "%matplotlib inline"
   ]
  },
  {
   "cell_type": "code",
   "execution_count": null,
   "metadata": {},
   "outputs": [],
   "source": []
  },
  {
   "cell_type": "code",
   "execution_count": null,
   "metadata": {},
   "outputs": [],
   "source": []
  },
  {
   "cell_type": "code",
   "execution_count": null,
   "metadata": {},
   "outputs": [],
   "source": []
  },
  {
   "cell_type": "code",
   "execution_count": null,
   "metadata": {},
   "outputs": [],
   "source": []
  },
  {
   "cell_type": "code",
   "execution_count": null,
   "metadata": {},
   "outputs": [],
   "source": []
  },
  {
   "cell_type": "code",
   "execution_count": null,
   "metadata": {
    "scrolled": true
   },
   "outputs": [],
   "source": [
    "merged.head(3)"
   ]
  },
  {
   "cell_type": "code",
   "execution_count": null,
   "metadata": {},
   "outputs": [],
   "source": [
    "mergedsupes.columns.tolist()"
   ]
  },
  {
   "cell_type": "code",
   "execution_count": null,
   "metadata": {},
   "outputs": [],
   "source": [
    "mergedsupestrim = mergedsupes[[\n",
    "    'Shape.area',\n",
    "    'Shape.len',\n",
    "    'OBJECTID',\n",
    "    'ZIPCODE',\n",
    "    'geometry',\n",
    "    'contributor_zip_code',\n",
    "    'last_name',\n",
    "    'amount_rcvdsize',\n",
    "    'amount_rcvdmean',\n",
    "    'amount_rcvdsum',\n",
    "]].rename(columns={\n",
    "    'Shape.area': \"area\",\n",
    "    'Shape.len': \"len\",\n",
    "    'OBJECTID': \"id\",\n",
    "    'ZIPCODE': \"zipcode\",\n",
    "    'geometry': \"geometry\",\n",
    "    'contributor_zip_code': \"contributor_zip_code\",\n",
    "    'last_name': \"candidate\",\n",
    "    'amount_rcvdsize': \"amount_cnt\",\n",
    "    'amount_rcvdmean': \"amount_avg\",\n",
    "    'amount_rcvdsum': \"amount_sum\",\n",
    "})"
   ]
  },
  {
   "cell_type": "code",
   "execution_count": null,
   "metadata": {},
   "outputs": [],
   "source": [
    "mergedsupestrim.dtypes"
   ]
  },
  {
   "cell_type": "code",
   "execution_count": null,
   "metadata": {},
   "outputs": [],
   "source": [
    "mergedsupes.dtypes"
   ]
  },
  {
   "cell_type": "code",
   "execution_count": null,
   "metadata": {
    "scrolled": true
   },
   "outputs": [],
   "source": [
    "mergedsupestrim.plot()"
   ]
  },
  {
   "cell_type": "code",
   "execution_count": null,
   "metadata": {},
   "outputs": [],
   "source": []
  },
  {
   "cell_type": "code",
   "execution_count": null,
   "metadata": {},
   "outputs": [],
   "source": [
    "breaks = jenkspy.jenks_breaks((thiscyclezips.amount_rcvdsum), nb_class=7)"
   ]
  },
  {
   "cell_type": "code",
   "execution_count": null,
   "metadata": {},
   "outputs": [],
   "source": [
    "breaks"
   ]
  },
  {
   "cell_type": "code",
   "execution_count": null,
   "metadata": {},
   "outputs": [],
   "source": [
    "mergedsupestrim"
   ]
  },
  {
   "cell_type": "code",
   "execution_count": null,
   "metadata": {},
   "outputs": [],
   "source": [
    "def get_group(value):\n",
    "    for i, b in enumerate(breaks):\n",
    "        if value <= breaks[i+1]:\n",
    "            return i"
   ]
  },
  {
   "cell_type": "code",
   "execution_count": null,
   "metadata": {},
   "outputs": [],
   "source": [
    "mergedsupestrim['amount_group'] = mergedsupestrim.amount_sum.apply(get_group)"
   ]
  },
  {
   "cell_type": "code",
   "execution_count": null,
   "metadata": {
    "scrolled": false
   },
   "outputs": [],
   "source": [
    "mergedsupestrim.head(5)"
   ]
  },
  {
   "cell_type": "code",
   "execution_count": null,
   "metadata": {},
   "outputs": [],
   "source": [
    "mergedsupestrim.to_file(\"/Users/mhustiles/Desktop/mergedsupesdonationszips.geojson\", driver=\"GeoJSON\")"
   ]
  },
  {
   "cell_type": "code",
   "execution_count": null,
   "metadata": {},
   "outputs": [],
   "source": [
    "geojson = json.loads(mergedsupestrim.to_json())"
   ]
  },
  {
   "cell_type": "code",
   "execution_count": null,
   "metadata": {},
   "outputs": [],
   "source": [
    "features = alt.Data(values=geojson['features'])"
   ]
  },
  {
   "cell_type": "code",
   "execution_count": null,
   "metadata": {},
   "outputs": [],
   "source": [
    "base = alt.Chart(features).mark_geoshape(\n",
    "    stroke='white',\n",
    "    strokeWidth=0.1\n",
    ").encode().properties(\n",
    "    width=600,\n",
    "    height=600\n",
    ")"
   ]
  },
  {
   "cell_type": "code",
   "execution_count": null,
   "metadata": {},
   "outputs": [],
   "source": [
    "geoshape = alt.Chart(features).mark_geoshape(\n",
    "    fill='lightgray',\n",
    "    stroke='white'\n",
    ")"
   ]
  },
  {
   "cell_type": "code",
   "execution_count": null,
   "metadata": {},
   "outputs": [],
   "source": [
    "outcome = geoshape.encode(\n",
    "    color=alt.Color(\n",
    "        \"properties.amount_group:N\",\n",
    "        scale=alt.Scale(\n",
    "            domain=[0, 1, 2, 3, 4, 5, 6],\n",
    "            range=lat.palette['schemes']['fire-7']\n",
    "        ),\n",
    "        legend=None\n",
    "    )\n",
    ")"
   ]
  },
  {
   "cell_type": "code",
   "execution_count": null,
   "metadata": {
    "scrolled": false
   },
   "outputs": [],
   "source": [
    "(base + outcome).properties(title=\"Totals by zip\").configure_view(\n",
    "    strokeWidth=0\n",
    ")"
   ]
  },
  {
   "cell_type": "code",
   "execution_count": null,
   "metadata": {},
   "outputs": [],
   "source": []
  },
  {
   "cell_type": "code",
   "execution_count": null,
   "metadata": {},
   "outputs": [],
   "source": []
  },
  {
   "cell_type": "code",
   "execution_count": null,
   "metadata": {},
   "outputs": [],
   "source": []
  },
  {
   "cell_type": "code",
   "execution_count": null,
   "metadata": {},
   "outputs": [],
   "source": []
  }
 ],
 "metadata": {
  "kernelspec": {
   "display_name": "Python 3",
   "language": "python",
   "name": "python3"
  },
  "language_info": {
   "codemirror_mode": {
    "name": "ipython",
    "version": 3
   },
   "file_extension": ".py",
   "mimetype": "text/x-python",
   "name": "python",
   "nbconvert_exporter": "python",
   "pygments_lexer": "ipython3",
   "version": "3.6.3rc1"
  }
 },
 "nbformat": 4,
 "nbformat_minor": 2
}
